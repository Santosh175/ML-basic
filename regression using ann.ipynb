{
 "cells": [
  {
   "cell_type": "code",
   "execution_count": 1,
   "id": "f045856c",
   "metadata": {},
   "outputs": [],
   "source": [
    "import numpy as np\n",
    "import pandas as pd \n",
    "%matplotlib inline\n",
    "import matplotlib as mpl\n",
    "import matplotlib.pyplot as plt"
   ]
  },
  {
   "cell_type": "code",
   "execution_count": 2,
   "id": "1c4403ad",
   "metadata": {},
   "outputs": [],
   "source": [
    "import tensorflow as tf\n",
    "from tensorflow import keras"
   ]
  },
  {
   "cell_type": "code",
   "execution_count": 3,
   "id": "2987376b",
   "metadata": {},
   "outputs": [],
   "source": [
    "from sklearn.datasets import fetch_california_housing\n",
    "housing = fetch_california_housing()"
   ]
  },
  {
   "cell_type": "code",
   "execution_count": 4,
   "id": "890bedb2",
   "metadata": {},
   "outputs": [
    {
     "name": "stdout",
     "output_type": "stream",
     "text": [
      "['MedInc', 'HouseAge', 'AveRooms', 'AveBedrms', 'Population', 'AveOccup', 'Latitude', 'Longitude']\n"
     ]
    }
   ],
   "source": [
    "print(housing.feature_names)"
   ]
  },
  {
   "cell_type": "code",
   "execution_count": 5,
   "id": "f1348a3e",
   "metadata": {},
   "outputs": [],
   "source": [
    "from sklearn.model_selection import train_test_split\n",
    "x_train_full,x_test,y_train_full , y_test = train_test_split(housing.data,housing.target,random_state=42)\n",
    "x_train, x_valid, y_train, y_valid = train_test_split(x_train_full,y_train_full,random_state=42)"
   ]
  },
  {
   "cell_type": "code",
   "execution_count": 6,
   "id": "285c9e10",
   "metadata": {},
   "outputs": [],
   "source": [
    "from sklearn.preprocessing import StandardScaler\n",
    "scaler = StandardScaler()\n",
    "x_train = scaler.fit_transform(x_train)\n",
    "x_valid + scaler.transform(x_valid)\n",
    "x_test = scaler.transform(x_test)"
   ]
  },
  {
   "cell_type": "code",
   "execution_count": 7,
   "id": "c241b6d6",
   "metadata": {},
   "outputs": [],
   "source": [
    "np.random.seed(42)\n",
    "tf.random.set_seed(42)"
   ]
  },
  {
   "cell_type": "code",
   "execution_count": 8,
   "id": "c4a0121f",
   "metadata": {},
   "outputs": [
    {
     "data": {
      "text/plain": [
       "(11610, 8)"
      ]
     },
     "execution_count": 8,
     "metadata": {},
     "output_type": "execute_result"
    }
   ],
   "source": [
    "x_train.shape"
   ]
  },
  {
   "cell_type": "code",
   "execution_count": 9,
   "id": "d904abb2",
   "metadata": {},
   "outputs": [],
   "source": [
    "model = keras.models.Sequential([\n",
    "    keras.layers.Dense(30,activation = \"relu\",input_shape=[8]),\n",
    "    keras.layers.Dense(30,activation =\"relu\"),\n",
    "    keras.layers.Dense(1)\n",
    "])#keras.layer.Dense(30,activation = \"relu,input_shape = x_train.shape[1:]\")"
   ]
  },
  {
   "cell_type": "code",
   "execution_count": 10,
   "id": "c23503b6",
   "metadata": {},
   "outputs": [
    {
     "name": "stdout",
     "output_type": "stream",
     "text": [
      "Model: \"sequential\"\n",
      "_________________________________________________________________\n",
      "Layer (type)                 Output Shape              Param #   \n",
      "=================================================================\n",
      "dense (Dense)                (None, 30)                270       \n",
      "_________________________________________________________________\n",
      "dense_1 (Dense)              (None, 30)                930       \n",
      "_________________________________________________________________\n",
      "dense_2 (Dense)              (None, 1)                 31        \n",
      "=================================================================\n",
      "Total params: 1,231\n",
      "Trainable params: 1,231\n",
      "Non-trainable params: 0\n",
      "_________________________________________________________________\n"
     ]
    }
   ],
   "source": [
    "model.summary()"
   ]
  },
  {
   "cell_type": "code",
   "execution_count": 11,
   "id": "98b01a2f",
   "metadata": {},
   "outputs": [
    {
     "name": "stderr",
     "output_type": "stream",
     "text": [
      "C:\\Users\\LEGION\\anaconda3\\envs\\santosh\\lib\\site-packages\\keras\\optimizer_v2\\optimizer_v2.py:355: UserWarning: The `lr` argument is deprecated, use `learning_rate` instead.\n",
      "  warnings.warn(\n"
     ]
    }
   ],
   "source": [
    "model.compile(loss=\"mean_squared_error\",optimizer = keras.optimizers.SGD(lr=1e-3),metrics = ['mae'] )\n",
    "#lr-learning rate,mae-mean absolute error"
   ]
  },
  {
   "cell_type": "code",
   "execution_count": 16,
   "id": "4f6fc3b9",
   "metadata": {},
   "outputs": [
    {
     "name": "stdout",
     "output_type": "stream",
     "text": [
      "Epoch 1/20\n",
      "363/363 [==============================] - 0s 878us/step - loss: 0.3949 - mae: 0.4489 - val_loss: 24557.4609 - val_mae: 140.2291\n",
      "Epoch 2/20\n",
      "363/363 [==============================] - 0s 861us/step - loss: 0.3922 - mae: 0.4469 - val_loss: 24328.7949 - val_mae: 139.5992\n",
      "Epoch 3/20\n",
      "363/363 [==============================] - 0s 857us/step - loss: 0.3898 - mae: 0.4461 - val_loss: 20166.1270 - val_mae: 128.4707\n",
      "Epoch 4/20\n",
      "363/363 [==============================] - 0s 862us/step - loss: 0.3873 - mae: 0.4439 - val_loss: 24368.7031 - val_mae: 139.7177\n",
      "Epoch 5/20\n",
      "363/363 [==============================] - 0s 852us/step - loss: 0.3851 - mae: 0.4426 - val_loss: 21692.6602 - val_mae: 132.7201\n",
      "Epoch 6/20\n",
      "363/363 [==============================] - 0s 847us/step - loss: 0.3829 - mae: 0.4415 - val_loss: 21258.1289 - val_mae: 131.6495\n",
      "Epoch 7/20\n",
      "363/363 [==============================] - 0s 843us/step - loss: 0.3808 - mae: 0.4398 - val_loss: 17140.3281 - val_mae: 119.9183\n",
      "Epoch 8/20\n",
      "363/363 [==============================] - 0s 807us/step - loss: 0.3788 - mae: 0.4385 - val_loss: 15500.4102 - val_mae: 115.0851\n",
      "Epoch 9/20\n",
      "363/363 [==============================] - 0s 849us/step - loss: 0.3768 - mae: 0.4375 - val_loss: 15551.1162 - val_mae: 115.6004\n",
      "Epoch 10/20\n",
      "363/363 [==============================] - ETA: 0s - loss: 0.3739 - mae: 0.435 - 0s 837us/step - loss: 0.3749 - mae: 0.4359 - val_loss: 14515.7441 - val_mae: 112.4397\n",
      "Epoch 11/20\n",
      "363/363 [==============================] - 0s 867us/step - loss: 0.3732 - mae: 0.4347 - val_loss: 16072.3398 - val_mae: 117.6070\n",
      "Epoch 12/20\n",
      "363/363 [==============================] - 0s 951us/step - loss: 0.3715 - mae: 0.4336 - val_loss: 12110.8320 - val_mae: 104.2807\n",
      "Epoch 13/20\n",
      "363/363 [==============================] - 0s 1ms/step - loss: 0.3700 - mae: 0.4327 - val_loss: 12604.2227 - val_mae: 106.2469\n",
      "Epoch 14/20\n",
      "363/363 [==============================] - 0s 919us/step - loss: 0.3684 - mae: 0.4315 - val_loss: 11862.3301 - val_mae: 103.3959\n",
      "Epoch 15/20\n",
      "363/363 [==============================] - 0s 926us/step - loss: 0.3671 - mae: 0.4307 - val_loss: 12361.3418 - val_mae: 105.5637\n",
      "Epoch 16/20\n",
      "363/363 [==============================] - 0s 895us/step - loss: 0.3659 - mae: 0.4305 - val_loss: 10426.4238 - val_mae: 98.1145\n",
      "Epoch 17/20\n",
      "363/363 [==============================] - 0s 901us/step - loss: 0.3648 - mae: 0.4294 - val_loss: 9870.7773 - val_mae: 95.8279\n",
      "Epoch 18/20\n",
      "363/363 [==============================] - 0s 964us/step - loss: 0.3635 - mae: 0.4284 - val_loss: 8742.6045 - val_mae: 90.7693\n",
      "Epoch 19/20\n",
      "363/363 [==============================] - 0s 933us/step - loss: 0.3622 - mae: 0.4272 - val_loss: 9175.4238 - val_mae: 92.7720\n",
      "Epoch 20/20\n",
      "363/363 [==============================] - 0s 933us/step - loss: 0.3613 - mae: 0.4269 - val_loss: 8659.5830 - val_mae: 90.6839\n"
     ]
    }
   ],
   "source": [
    " model_history = model.fit(x_train,y_train,epochs=20,validation_data= (x_valid ,y_valid))"
   ]
  },
  {
   "cell_type": "code",
   "execution_count": 17,
   "id": "05ba1d03",
   "metadata": {},
   "outputs": [
    {
     "name": "stdout",
     "output_type": "stream",
     "text": [
      "162/162 [==============================] - 0s 658us/step - loss: 0.3596 - mae: 0.4269\n"
     ]
    }
   ],
   "source": [
    " mae_test = model.evaluate(x_test,y_test)"
   ]
  },
  {
   "cell_type": "code",
   "execution_count": 14,
   "id": "34157c5a",
   "metadata": {},
   "outputs": [
    {
     "data": {
      "text/plain": [
       "{'loss': [1.8866397142410278,\n",
       "  0.6577126979827881,\n",
       "  0.593418538570404,\n",
       "  0.5557191371917725,\n",
       "  0.5271905064582825,\n",
       "  0.5032975673675537,\n",
       "  0.48535558581352234,\n",
       "  0.47091811895370483,\n",
       "  0.45779937505722046,\n",
       "  0.4474469721317291,\n",
       "  0.4393136501312256,\n",
       "  0.43176087737083435,\n",
       "  0.42605164647102356,\n",
       "  0.42017653584480286,\n",
       "  0.41549986600875854,\n",
       "  0.41116511821746826,\n",
       "  0.4077068567276001,\n",
       "  0.40395283699035645,\n",
       "  0.4004494547843933,\n",
       "  0.39796027541160583],\n",
       " 'mae': [0.9900256991386414,\n",
       "  0.6041509509086609,\n",
       "  0.5618005990982056,\n",
       "  0.5398454070091248,\n",
       "  0.5237293243408203,\n",
       "  0.5112562775611877,\n",
       "  0.5010154247283936,\n",
       "  0.492448091506958,\n",
       "  0.4857262969017029,\n",
       "  0.4797375202178955,\n",
       "  0.4744163453578949,\n",
       "  0.4703480303287506,\n",
       "  0.46740883588790894,\n",
       "  0.4636021554470062,\n",
       "  0.461266428232193,\n",
       "  0.4591343402862549,\n",
       "  0.4568699896335602,\n",
       "  0.4545365273952484,\n",
       "  0.4521064758300781,\n",
       "  0.45083147287368774],\n",
       " 'val_loss': [114923.9375,\n",
       "  106103.46875,\n",
       "  92774.546875,\n",
       "  97678.75,\n",
       "  82182.34375,\n",
       "  80667.234375,\n",
       "  68907.390625,\n",
       "  66344.8046875,\n",
       "  60160.1953125,\n",
       "  54999.72265625,\n",
       "  60592.25,\n",
       "  45173.70703125,\n",
       "  42307.27734375,\n",
       "  39633.3046875,\n",
       "  39591.30078125,\n",
       "  34273.5703125,\n",
       "  30858.712890625,\n",
       "  28775.939453125,\n",
       "  26454.2265625,\n",
       "  25700.828125],\n",
       " 'val_mae': [264.7683410644531,\n",
       "  259.218505859375,\n",
       "  245.40383911132812,\n",
       "  253.43760681152344,\n",
       "  235.07565307617188,\n",
       "  233.45062255859375,\n",
       "  217.88861083984375,\n",
       "  215.0835418701172,\n",
       "  206.29672241210938,\n",
       "  198.5155792236328,\n",
       "  207.8824462890625,\n",
       "  182.32139587402344,\n",
       "  177.40940856933594,\n",
       "  172.34738159179688,\n",
       "  172.7532958984375,\n",
       "  162.06573486328125,\n",
       "  154.73028564453125,\n",
       "  149.8529815673828,\n",
       "  144.45477294921875,\n",
       "  142.968017578125]}"
      ]
     },
     "execution_count": 14,
     "metadata": {},
     "output_type": "execute_result"
    }
   ],
   "source": [
    "model_history.history"
   ]
  },
  {
   "cell_type": "code",
   "execution_count": 18,
   "id": "93e92c52",
   "metadata": {},
   "outputs": [
    {
     "ename": "AttributeError",
     "evalue": "'AxesSubplot' object has no attribute 'set_yline'",
     "output_type": "error",
     "traceback": [
      "\u001b[1;31m---------------------------------------------------------------------------\u001b[0m",
      "\u001b[1;31mAttributeError\u001b[0m                            Traceback (most recent call last)",
      "\u001b[1;32m~\\AppData\\Local\\Temp/ipykernel_11184/1640229247.py\u001b[0m in \u001b[0;36m<module>\u001b[1;34m\u001b[0m\n\u001b[0;32m      1\u001b[0m \u001b[0mpd\u001b[0m\u001b[1;33m.\u001b[0m\u001b[0mDataFrame\u001b[0m\u001b[1;33m(\u001b[0m\u001b[0mmodel_history\u001b[0m\u001b[1;33m.\u001b[0m\u001b[0mhistory\u001b[0m\u001b[1;33m)\u001b[0m\u001b[1;33m.\u001b[0m\u001b[0mplot\u001b[0m\u001b[1;33m(\u001b[0m\u001b[0mfigsize\u001b[0m\u001b[1;33m=\u001b[0m\u001b[1;33m(\u001b[0m\u001b[1;36m8\u001b[0m\u001b[1;33m,\u001b[0m\u001b[1;36m5\u001b[0m\u001b[1;33m)\u001b[0m\u001b[1;33m)\u001b[0m\u001b[1;33m\u001b[0m\u001b[1;33m\u001b[0m\u001b[0m\n\u001b[0;32m      2\u001b[0m \u001b[0mplt\u001b[0m\u001b[1;33m.\u001b[0m\u001b[0mgrid\u001b[0m\u001b[1;33m(\u001b[0m\u001b[1;32mTrue\u001b[0m\u001b[1;33m)\u001b[0m\u001b[1;33m\u001b[0m\u001b[1;33m\u001b[0m\u001b[0m\n\u001b[1;32m----> 3\u001b[1;33m \u001b[0mplt\u001b[0m\u001b[1;33m.\u001b[0m\u001b[0mgca\u001b[0m\u001b[1;33m(\u001b[0m\u001b[1;33m)\u001b[0m\u001b[1;33m.\u001b[0m\u001b[0mset_yline\u001b[0m\u001b[1;33m(\u001b[0m\u001b[1;36m0\u001b[0m\u001b[1;33m,\u001b[0m\u001b[1;36m1\u001b[0m\u001b[1;33m)\u001b[0m\u001b[1;33m\u001b[0m\u001b[1;33m\u001b[0m\u001b[0m\n\u001b[0m\u001b[0;32m      4\u001b[0m \u001b[0mplt\u001b[0m\u001b[1;33m.\u001b[0m\u001b[0mshow\u001b[0m\u001b[1;33m(\u001b[0m\u001b[1;33m)\u001b[0m\u001b[1;33m\u001b[0m\u001b[1;33m\u001b[0m\u001b[0m\n",
      "\u001b[1;31mAttributeError\u001b[0m: 'AxesSubplot' object has no attribute 'set_yline'"
     ]
    },
    {
     "data": {
      "image/png": "[encoded data removed]",
      "text/plain": [
       "<Figure size 576x360 with 1 Axes>"
      ]
     },
     "metadata": {
      "needs_background": "light"
     },
     "output_type": "display_data"
    }
   ],
   "source": [
    "pd.DataFrame(model_history.history).plot(figsize=(8,5))\n",
    "plt.grid(True)\n",
    "plt.gca().set_yline(0,1)\n",
    "plt.show()"
   ]
  },
  {
   "cell_type": "code",
   "execution_count": 19,
   "id": "c05d8f4d",
   "metadata": {},
   "outputs": [],
   "source": [
    " x_new = x_test[:3]"
   ]
  },
  {
   "cell_type": "code",
   "execution_count": 22,
   "id": "dda24c9e",
   "metadata": {},
   "outputs": [
    {
     "name": "stdout",
     "output_type": "stream",
     "text": [
      "[[0.60721976]\n",
      " [1.8602647 ]\n",
      " [3.792632  ]]\n",
      "[0.477   0.458   5.00001]\n"
     ]
    }
   ],
   "source": [
    "y_pred = model.predict(x_new)\n",
    "print(y_pred)\n",
    "print(y_test[:3])"
   ]
  },
  {
   "cell_type": "code",
   "execution_count": 23,
   "id": "3b123571",
   "metadata": {},
   "outputs": [],
   "source": [
    "del model"
   ]
  },
  {
   "cell_type": "code",
   "execution_count": 24,
   "id": "8f5d9d30",
   "metadata": {},
   "outputs": [],
   "source": [
    "keras.backend.clear_session()"
   ]
  },
  {
   "cell_type": "code",
   "execution_count": 26,
   "id": "a4480815",
   "metadata": {},
   "outputs": [],
   "source": [
    "input_ = keras.layers.Input(shape=x_train.shape[1:])\n",
    "hidden1 = keras.layers.Dense(30,activation=\"relu\")(input_)\n",
    "hidden2 = keras.layers.Dense(30,activation=\"relu\")(hidden1)\n",
    "concat = keras.layers.concatenate([input_,hidden2])\n",
    "output = keras.layers.Dense(1)(concat)\n",
    "model = keras.models.Model(inputs=[input_],outputs=[output])"
   ]
  },
  {
   "cell_type": "code",
   "execution_count": 28,
   "id": "5f05291c",
   "metadata": {},
   "outputs": [
    {
     "name": "stdout",
     "output_type": "stream",
     "text": [
      "Model: \"model\"\n",
      "__________________________________________________________________________________________________\n",
      "Layer (type)                    Output Shape         Param #     Connected to                     \n",
      "==================================================================================================\n",
      "input_2 (InputLayer)            [(None, 8)]          0                                            \n",
      "__________________________________________________________________________________________________\n",
      "dense (Dense)                   (None, 30)           270         input_2[0][0]                    \n",
      "__________________________________________________________________________________________________\n",
      "dense_1 (Dense)                 (None, 30)           930         dense[0][0]                      \n",
      "__________________________________________________________________________________________________\n",
      "concatenate (Concatenate)       (None, 38)           0           input_2[0][0]                    \n",
      "                                                                 dense_1[0][0]                    \n",
      "__________________________________________________________________________________________________\n",
      "dense_2 (Dense)                 (None, 1)            39          concatenate[0][0]                \n",
      "==================================================================================================\n",
      "Total params: 1,239\n",
      "Trainable params: 1,239\n",
      "Non-trainable params: 0\n",
      "__________________________________________________________________________________________________\n"
     ]
    }
   ],
   "source": [
    "model.summary()"
   ]
  },
  {
   "cell_type": "code",
   "execution_count": 30,
   "id": "97bf4065",
   "metadata": {},
   "outputs": [
    {
     "name": "stderr",
     "output_type": "stream",
     "text": [
      "C:\\Users\\LEGION\\anaconda3\\envs\\santosh\\lib\\site-packages\\keras\\optimizer_v2\\optimizer_v2.py:355: UserWarning: The `lr` argument is deprecated, use `learning_rate` instead.\n",
      "  warnings.warn(\n"
     ]
    }
   ],
   "source": [
    "model.compile(loss = \"mean_squared_error\", optimizer=keras.optimizers.SGD(lr=1e-3),metrics=['mae'])"
   ]
  },
  {
   "cell_type": "code",
   "execution_count": 35,
   "id": "aac1700b",
   "metadata": {},
   "outputs": [
    {
     "name": "stdout",
     "output_type": "stream",
     "text": [
      "Epoch 1/40\n",
      "363/363 [==============================] - ETA: 0s - loss: 0.3689 - mae: 0.433 - 0s 988us/step - loss: 0.3709 - mae: 0.4335 - val_loss: 32263.1191 - val_mae: 166.2963\n",
      "Epoch 2/40\n",
      "363/363 [==============================] - 0s 986us/step - loss: 0.3701 - mae: 0.4326 - val_loss: 32720.3262 - val_mae: 167.1074\n",
      "Epoch 3/40\n",
      "363/363 [==============================] - 0s 870us/step - loss: 0.3692 - mae: 0.4328 - val_loss: 29851.8359 - val_mae: 160.1971\n",
      "Epoch 4/40\n",
      "363/363 [==============================] - 0s 872us/step - loss: 0.3680 - mae: 0.4315 - val_loss: 33552.9883 - val_mae: 168.7819\n",
      "Epoch 5/40\n",
      "363/363 [==============================] - 0s 909us/step - loss: 0.3676 - mae: 0.4310 - val_loss: 32422.5586 - val_mae: 166.1720\n",
      "Epoch 6/40\n",
      "363/363 [==============================] - 0s 864us/step - loss: 0.3663 - mae: 0.4304 - val_loss: 34790.3086 - val_mae: 171.0281\n",
      "Epoch 7/40\n",
      "363/363 [==============================] - 0s 903us/step - loss: 0.3659 - mae: 0.4297 - val_loss: 30110.0137 - val_mae: 160.5352\n",
      "Epoch 8/40\n",
      "363/363 [==============================] - 0s 949us/step - loss: 0.3649 - mae: 0.4294 - val_loss: 27237.2168 - val_mae: 153.7258\n",
      "Epoch 9/40\n",
      "363/363 [==============================] - 0s 1ms/step - loss: 0.3640 - mae: 0.4287 - val_loss: 31897.6855 - val_mae: 164.5724\n",
      "Epoch 10/40\n",
      "363/363 [==============================] - 0s 950us/step - loss: 0.3633 - mae: 0.4281 - val_loss: 29344.9297 - val_mae: 158.6930\n",
      "Epoch 11/40\n",
      "363/363 [==============================] - 0s 1ms/step - loss: 0.3628 - mae: 0.4274 - val_loss: 30970.6484 - val_mae: 162.4071\n",
      "Epoch 12/40\n",
      "363/363 [==============================] - 0s 1ms/step - loss: 0.3618 - mae: 0.4268 - val_loss: 28120.5469 - val_mae: 155.6942\n",
      "Epoch 13/40\n",
      "363/363 [==============================] - 0s 1ms/step - loss: 0.3613 - mae: 0.4264 - val_loss: 27985.9707 - val_mae: 155.2921\n",
      "Epoch 14/40\n",
      "363/363 [==============================] - 0s 975us/step - loss: 0.3604 - mae: 0.4255 - val_loss: 26680.6758 - val_mae: 151.7620\n",
      "Epoch 15/40\n",
      "363/363 [==============================] - 0s 1ms/step - loss: 0.3597 - mae: 0.4255 - val_loss: 28571.3711 - val_mae: 156.6651\n",
      "Epoch 16/40\n",
      "363/363 [==============================] - 0s 1ms/step - loss: 0.3590 - mae: 0.4251 - val_loss: 25812.9043 - val_mae: 149.7144\n",
      "Epoch 17/40\n",
      "363/363 [==============================] - 0s 1ms/step - loss: 0.3583 - mae: 0.4244 - val_loss: 27851.2617 - val_mae: 154.5988\n",
      "Epoch 18/40\n",
      "363/363 [==============================] - 0s 905us/step - loss: 0.3581 - mae: 0.4242 - val_loss: 26286.1309 - val_mae: 150.4946\n",
      "Epoch 19/40\n",
      "363/363 [==============================] - 0s 900us/step - loss: 0.3571 - mae: 0.4233 - val_loss: 27577.7891 - val_mae: 153.6322\n",
      "Epoch 20/40\n",
      "363/363 [==============================] - 0s 941us/step - loss: 0.3565 - mae: 0.4229 - val_loss: 25334.8652 - val_mae: 148.2343\n",
      "Epoch 21/40\n",
      "363/363 [==============================] - 0s 1ms/step - loss: 0.3560 - mae: 0.4224 - val_loss: 28609.3730 - val_mae: 156.2072\n",
      "Epoch 22/40\n",
      "363/363 [==============================] - 0s 946us/step - loss: 0.3552 - mae: 0.4224 - val_loss: 27418.7363 - val_mae: 153.3102\n",
      "Epoch 23/40\n",
      "363/363 [==============================] - 0s 966us/step - loss: 0.3548 - mae: 0.4223 - val_loss: 25725.0234 - val_mae: 149.1743\n",
      "Epoch 24/40\n",
      "363/363 [==============================] - 0s 1ms/step - loss: 0.3540 - mae: 0.4209 - val_loss: 25884.5820 - val_mae: 149.2422\n",
      "Epoch 25/40\n",
      "363/363 [==============================] - 0s 948us/step - loss: 0.3534 - mae: 0.4208 - val_loss: 24771.1816 - val_mae: 146.9590\n",
      "Epoch 26/40\n",
      "363/363 [==============================] - 0s 921us/step - loss: 0.3531 - mae: 0.4205 - val_loss: 22455.0156 - val_mae: 140.7327\n",
      "Epoch 27/40\n",
      "363/363 [==============================] - 0s 933us/step - loss: 0.3528 - mae: 0.4203 - val_loss: 23188.1582 - val_mae: 142.9002\n",
      "Epoch 28/40\n",
      "363/363 [==============================] - 0s 925us/step - loss: 0.3520 - mae: 0.4194 - val_loss: 23542.3809 - val_mae: 143.7257\n",
      "Epoch 29/40\n",
      "363/363 [==============================] - 0s 940us/step - loss: 0.3516 - mae: 0.4196 - val_loss: 22440.8848 - val_mae: 140.8883\n",
      "Epoch 30/40\n",
      "363/363 [==============================] - 0s 934us/step - loss: 0.3508 - mae: 0.4189 - val_loss: 23035.4121 - val_mae: 142.4332\n",
      "Epoch 31/40\n",
      "363/363 [==============================] - 0s 916us/step - loss: 0.3500 - mae: 0.4183 - val_loss: 21328.9336 - val_mae: 137.8741\n",
      "Epoch 32/40\n",
      "363/363 [==============================] - 0s 921us/step - loss: 0.3497 - mae: 0.4180 - val_loss: 23980.8906 - val_mae: 144.8971\n",
      "Epoch 33/40\n",
      "363/363 [==============================] - 0s 928us/step - loss: 0.3496 - mae: 0.4184 - val_loss: 23021.3652 - val_mae: 142.9210\n",
      "Epoch 34/40\n",
      "363/363 [==============================] - 0s 1ms/step - loss: 0.3487 - mae: 0.4175 - val_loss: 24368.4570 - val_mae: 146.7085\n",
      "Epoch 35/40\n",
      "363/363 [==============================] - ETA: 0s - loss: 0.3505 - mae: 0.418 - 0s 1ms/step - loss: 0.3484 - mae: 0.4173 - val_loss: 23368.8164 - val_mae: 143.8927\n",
      "Epoch 36/40\n",
      "363/363 [==============================] - 0s 860us/step - loss: 0.3478 - mae: 0.4172 - val_loss: 18472.2207 - val_mae: 129.7874\n",
      "Epoch 37/40\n",
      "363/363 [==============================] - 0s 902us/step - loss: 0.3475 - mae: 0.4164 - val_loss: 20276.9355 - val_mae: 135.2592\n",
      "Epoch 38/40\n",
      "363/363 [==============================] - 0s 1ms/step - loss: 0.3470 - mae: 0.4165 - val_loss: 20094.3340 - val_mae: 134.9004\n",
      "Epoch 39/40\n",
      "363/363 [==============================] - 0s 1ms/step - loss: 0.3463 - mae: 0.4157 - val_loss: 18828.5449 - val_mae: 130.9701\n",
      "Epoch 40/40\n",
      "363/363 [==============================] - 0s 997us/step - loss: 0.3457 - mae: 0.4155 - val_loss: 19759.3965 - val_mae: 133.9431\n"
     ]
    }
   ],
   "source": [
    "model_history = model.fit(x_train,y_train, epochs=40,validation_data=(x_valid,y_valid))"
   ]
  },
  {
   "cell_type": "code",
   "execution_count": 36,
   "id": "3a7e9cf0",
   "metadata": {},
   "outputs": [
    {
     "name": "stdout",
     "output_type": "stream",
     "text": [
      "162/162 [==============================] - 0s 636us/step - loss: 0.3453 - mae: 0.4138\n"
     ]
    }
   ],
   "source": [
    "mae_test = model.evaluate(x_test, y_test)"
   ]
  },
  {
   "cell_type": "code",
   "execution_count": 37,
   "id": "5f1bdf29",
   "metadata": {},
   "outputs": [
    {
     "data": {
      "text/plain": [
       "{'loss': [0.3709263205528259,\n",
       "  0.3700839579105377,\n",
       "  0.369223028421402,\n",
       "  0.3680168092250824,\n",
       "  0.36759650707244873,\n",
       "  0.3662555515766144,\n",
       "  0.3658841848373413,\n",
       "  0.36490800976753235,\n",
       "  0.3639836311340332,\n",
       "  0.36330878734588623,\n",
       "  0.36275675892829895,\n",
       "  0.3617851436138153,\n",
       "  0.3612557053565979,\n",
       "  0.36040636897087097,\n",
       "  0.3597029149532318,\n",
       "  0.35897988080978394,\n",
       "  0.3582959473133087,\n",
       "  0.3581498861312866,\n",
       "  0.357149213552475,\n",
       "  0.35653623938560486,\n",
       "  0.3560299873352051,\n",
       "  0.3551877737045288,\n",
       "  0.35484129190444946,\n",
       "  0.35403120517730713,\n",
       "  0.353405237197876,\n",
       "  0.3530506491661072,\n",
       "  0.3527590036392212,\n",
       "  0.35197368264198303,\n",
       "  0.3515776991844177,\n",
       "  0.3507738709449768,\n",
       "  0.350049763917923,\n",
       "  0.34974566102027893,\n",
       "  0.349582701921463,\n",
       "  0.3487241268157959,\n",
       "  0.34837576746940613,\n",
       "  0.34780386090278625,\n",
       "  0.34750786423683167,\n",
       "  0.3469705879688263,\n",
       "  0.34626635909080505,\n",
       "  0.3456941843032837],\n",
       " 'mae': [0.43353164196014404,\n",
       "  0.4326022267341614,\n",
       "  0.4328124523162842,\n",
       "  0.43150049448013306,\n",
       "  0.43099451065063477,\n",
       "  0.4303809702396393,\n",
       "  0.4297161102294922,\n",
       "  0.4293922185897827,\n",
       "  0.42874613404273987,\n",
       "  0.4281407594680786,\n",
       "  0.4273611903190613,\n",
       "  0.42679309844970703,\n",
       "  0.4264322817325592,\n",
       "  0.4255039393901825,\n",
       "  0.42547065019607544,\n",
       "  0.42506691813468933,\n",
       "  0.4244306683540344,\n",
       "  0.4242098033428192,\n",
       "  0.42331230640411377,\n",
       "  0.4228975176811218,\n",
       "  0.42236801981925964,\n",
       "  0.4223550260066986,\n",
       "  0.42228350043296814,\n",
       "  0.4208539128303528,\n",
       "  0.4208490550518036,\n",
       "  0.4205155372619629,\n",
       "  0.42027974128723145,\n",
       "  0.4194144010543823,\n",
       "  0.41957443952560425,\n",
       "  0.41894400119781494,\n",
       "  0.4182523787021637,\n",
       "  0.4179714322090149,\n",
       "  0.4183685779571533,\n",
       "  0.41750234365463257,\n",
       "  0.41725265979766846,\n",
       "  0.4171937108039856,\n",
       "  0.41635948419570923,\n",
       "  0.41647785902023315,\n",
       "  0.4156855344772339,\n",
       "  0.4155438244342804],\n",
       " 'val_loss': [32263.119140625,\n",
       "  32720.326171875,\n",
       "  29851.8359375,\n",
       "  33552.98828125,\n",
       "  32422.55859375,\n",
       "  34790.30859375,\n",
       "  30110.013671875,\n",
       "  27237.216796875,\n",
       "  31897.685546875,\n",
       "  29344.9296875,\n",
       "  30970.6484375,\n",
       "  28120.546875,\n",
       "  27985.970703125,\n",
       "  26680.67578125,\n",
       "  28571.37109375,\n",
       "  25812.904296875,\n",
       "  27851.26171875,\n",
       "  26286.130859375,\n",
       "  27577.7890625,\n",
       "  25334.865234375,\n",
       "  28609.373046875,\n",
       "  27418.736328125,\n",
       "  25725.0234375,\n",
       "  25884.58203125,\n",
       "  24771.181640625,\n",
       "  22455.015625,\n",
       "  23188.158203125,\n",
       "  23542.380859375,\n",
       "  22440.884765625,\n",
       "  23035.412109375,\n",
       "  21328.93359375,\n",
       "  23980.890625,\n",
       "  23021.365234375,\n",
       "  24368.45703125,\n",
       "  23368.81640625,\n",
       "  18472.220703125,\n",
       "  20276.935546875,\n",
       "  20094.333984375,\n",
       "  18828.544921875,\n",
       "  19759.396484375],\n",
       " 'val_mae': [166.2963409423828,\n",
       "  167.10736083984375,\n",
       "  160.19711303710938,\n",
       "  168.78192138671875,\n",
       "  166.17201232910156,\n",
       "  171.02809143066406,\n",
       "  160.53524780273438,\n",
       "  153.72584533691406,\n",
       "  164.57244873046875,\n",
       "  158.69296264648438,\n",
       "  162.40711975097656,\n",
       "  155.69422912597656,\n",
       "  155.2920684814453,\n",
       "  151.761962890625,\n",
       "  156.66506958007812,\n",
       "  149.71444702148438,\n",
       "  154.59878540039062,\n",
       "  150.4945831298828,\n",
       "  153.6322021484375,\n",
       "  148.2342529296875,\n",
       "  156.2072296142578,\n",
       "  153.31019592285156,\n",
       "  149.17433166503906,\n",
       "  149.24220275878906,\n",
       "  146.9590301513672,\n",
       "  140.73268127441406,\n",
       "  142.90017700195312,\n",
       "  143.72572326660156,\n",
       "  140.8883056640625,\n",
       "  142.4331817626953,\n",
       "  137.87405395507812,\n",
       "  144.89707946777344,\n",
       "  142.9209747314453,\n",
       "  146.70852661132812,\n",
       "  143.8926544189453,\n",
       "  129.7874298095703,\n",
       "  135.25918579101562,\n",
       "  134.90037536621094,\n",
       "  130.97012329101562,\n",
       "  133.94305419921875]}"
      ]
     },
     "execution_count": 37,
     "metadata": {},
     "output_type": "execute_result"
    }
   ],
   "source": [
    "model_history.history"
   ]
  },
  {
   "cell_type": "code",
   "execution_count": 38,
   "id": "ff1de232",
   "metadata": {},
   "outputs": [
    {
     "ename": "AttributeError",
     "evalue": "'AxesSubplot' object has no attribute 'set_yline'",
     "output_type": "error",
     "traceback": [
      "\u001b[1;31m---------------------------------------------------------------------------\u001b[0m",
      "\u001b[1;31mAttributeError\u001b[0m                            Traceback (most recent call last)",
      "\u001b[1;32m~\\AppData\\Local\\Temp/ipykernel_11184/1640229247.py\u001b[0m in \u001b[0;36m<module>\u001b[1;34m\u001b[0m\n\u001b[0;32m      1\u001b[0m \u001b[0mpd\u001b[0m\u001b[1;33m.\u001b[0m\u001b[0mDataFrame\u001b[0m\u001b[1;33m(\u001b[0m\u001b[0mmodel_history\u001b[0m\u001b[1;33m.\u001b[0m\u001b[0mhistory\u001b[0m\u001b[1;33m)\u001b[0m\u001b[1;33m.\u001b[0m\u001b[0mplot\u001b[0m\u001b[1;33m(\u001b[0m\u001b[0mfigsize\u001b[0m\u001b[1;33m=\u001b[0m\u001b[1;33m(\u001b[0m\u001b[1;36m8\u001b[0m\u001b[1;33m,\u001b[0m\u001b[1;36m5\u001b[0m\u001b[1;33m)\u001b[0m\u001b[1;33m)\u001b[0m\u001b[1;33m\u001b[0m\u001b[1;33m\u001b[0m\u001b[0m\n\u001b[0;32m      2\u001b[0m \u001b[0mplt\u001b[0m\u001b[1;33m.\u001b[0m\u001b[0mgrid\u001b[0m\u001b[1;33m(\u001b[0m\u001b[1;32mTrue\u001b[0m\u001b[1;33m)\u001b[0m\u001b[1;33m\u001b[0m\u001b[1;33m\u001b[0m\u001b[0m\n\u001b[1;32m----> 3\u001b[1;33m \u001b[0mplt\u001b[0m\u001b[1;33m.\u001b[0m\u001b[0mgca\u001b[0m\u001b[1;33m(\u001b[0m\u001b[1;33m)\u001b[0m\u001b[1;33m.\u001b[0m\u001b[0mset_yline\u001b[0m\u001b[1;33m(\u001b[0m\u001b[1;36m0\u001b[0m\u001b[1;33m,\u001b[0m\u001b[1;36m1\u001b[0m\u001b[1;33m)\u001b[0m\u001b[1;33m\u001b[0m\u001b[1;33m\u001b[0m\u001b[0m\n\u001b[0m\u001b[0;32m      4\u001b[0m \u001b[0mplt\u001b[0m\u001b[1;33m.\u001b[0m\u001b[0mshow\u001b[0m\u001b[1;33m(\u001b[0m\u001b[1;33m)\u001b[0m\u001b[1;33m\u001b[0m\u001b[1;33m\u001b[0m\u001b[0m\n",
      "\u001b[1;31mAttributeError\u001b[0m: 'AxesSubplot' object has no attribute 'set_yline'"
     ]
    },
    {
     "data": {
      "image/png": "[encoded data removed]",
      "text/plain": [
       "<Figure size 576x360 with 1 Axes>"
      ]
     },
     "metadata": {
      "needs_background": "light"
     },
     "output_type": "display_data"
    }
   ],
   "source": [
    "pd.DataFrame(model_history.history).plot(figsize=(8,5))\n",
    "plt.grid(True)\n",
    "plt.gca().set_yline(0,1)\n",
    "plt.show()"
   ]
  },
  {
   "cell_type": "markdown",
   "id": "66196acd",
   "metadata": {},
   "source": [
    "# Saving and Restoring "
   ]
  },
  {
   "cell_type": "code",
   "execution_count": 39,
   "id": "1858c094",
   "metadata": {},
   "outputs": [],
   "source": [
    "model.save(\"my_func_model.h5\")"
   ]
  },
  {
   "cell_type": "code",
   "execution_count": 40,
   "id": "35f162d2",
   "metadata": {},
   "outputs": [
    {
     "data": {
      "text/plain": [
       "'C:\\\\Users\\\\LEGION'"
      ]
     },
     "execution_count": 40,
     "metadata": {},
     "output_type": "execute_result"
    }
   ],
   "source": [
    "%pwd"
   ]
  },
  {
   "cell_type": "code",
   "execution_count": 41,
   "id": "9f24f312",
   "metadata": {},
   "outputs": [
    {
     "name": "stdout",
     "output_type": "stream",
     "text": [
      "C:\\Users\\LEGION\n"
     ]
    }
   ],
   "source": [
    "%cd C:\\\\Users\\\\LEGION"
   ]
  },
  {
   "cell_type": "code",
   "execution_count": 42,
   "id": "e8f678eb",
   "metadata": {},
   "outputs": [],
   "source": [
    "del model"
   ]
  },
  {
   "cell_type": "code",
   "execution_count": 43,
   "id": "2ff21fdd",
   "metadata": {},
   "outputs": [],
   "source": [
    "keras.backend.clear_session()"
   ]
  },
  {
   "cell_type": "code",
   "execution_count": 44,
   "id": "7d8c5047",
   "metadata": {},
   "outputs": [],
   "source": [
    "model = keras.models.load_model(\"my_func_model.h5\") "
   ]
  },
  {
   "cell_type": "code",
   "execution_count": 45,
   "id": "7dab4bac",
   "metadata": {},
   "outputs": [
    {
     "name": "stdout",
     "output_type": "stream",
     "text": [
      "Model: \"model\"\n",
      "__________________________________________________________________________________________________\n",
      "Layer (type)                    Output Shape         Param #     Connected to                     \n",
      "==================================================================================================\n",
      "input_2 (InputLayer)            [(None, 8)]          0                                            \n",
      "__________________________________________________________________________________________________\n",
      "dense (Dense)                   (None, 30)           270         input_2[0][0]                    \n",
      "__________________________________________________________________________________________________\n",
      "dense_1 (Dense)                 (None, 30)           930         dense[0][0]                      \n",
      "__________________________________________________________________________________________________\n",
      "concatenate (Concatenate)       (None, 38)           0           input_2[0][0]                    \n",
      "                                                                 dense_1[0][0]                    \n",
      "__________________________________________________________________________________________________\n",
      "dense_2 (Dense)                 (None, 1)            39          concatenate[0][0]                \n",
      "==================================================================================================\n",
      "Total params: 1,239\n",
      "Trainable params: 1,239\n",
      "Non-trainable params: 0\n",
      "__________________________________________________________________________________________________\n"
     ]
    }
   ],
   "source": [
    "model.summary()"
   ]
  },
  {
   "cell_type": "code",
   "execution_count": 46,
   "id": "04171e3e",
   "metadata": {},
   "outputs": [
    {
     "name": "stdout",
     "output_type": "stream",
     "text": [
      "[[0.71041065]\n",
      " [1.6733272 ]\n",
      " [4.16231   ]]\n"
     ]
    }
   ],
   "source": [
    "y_pred = model.predict(x_new)\n",
    "print(y_pred)"
   ]
  },
  {
   "cell_type": "code",
   "execution_count": null,
   "id": "04478839",
   "metadata": {},
   "outputs": [],
   "source": []
  }
 ],
 "metadata": {
  "kernelspec": {
   "display_name": "Python 3 (ipykernel)",
   "language": "python",
   "name": "python3"
  },
  "language_info": {
   "codemirror_mode": {
    "name": "ipython",
    "version": 3
   },
   "file_extension": ".py",
   "mimetype": "text/x-python",
   "name": "python",
   "nbconvert_exporter": "python",
   "pygments_lexer": "ipython3",
   "version": "3.8.12"
  }
 },
 "nbformat": 4,
 "nbformat_minor": 5
}
