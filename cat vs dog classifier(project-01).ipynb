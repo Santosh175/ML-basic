{
 "cells": [
  {
   "cell_type": "code",
   "execution_count": 2,
   "id": "655f9e6d",
   "metadata": {},
   "outputs": [],
   "source": [
    "import numpy as np\n",
    "import pandas as pd\n",
    "%matplotlib inline\n",
    "import matplotlib as mpl\n",
    "import matplotlib.pyplot as plt\n",
    "import os"
   ]
  },
  {
   "cell_type": "code",
   "execution_count": 3,
   "id": "b63bb800",
   "metadata": {},
   "outputs": [],
   "source": [
    "import tensorflow as tf\n",
    "from tensorflow import keras"
   ]
  },
  {
   "cell_type": "code",
   "execution_count": 4,
   "id": "9318041a",
   "metadata": {},
   "outputs": [],
   "source": [
    "train_dir =r'D:\\santosh\\Deep Learning\\Data set-2\\train'\n",
    "validation_dir =r'D:\\santosh\\Deep Learning\\Data set-2\\validation'\n",
    "test_dir = r'D:\\santosh\\Deep Learning\\Data set-2\\test'"
   ]
  },
  {
   "cell_type": "markdown",
   "id": "d8808072",
   "metadata": {},
   "source": [
    "# Data Preprocessing"
   ]
  },
  {
   "cell_type": "markdown",
   "id": "7c0c0ae0",
   "metadata": {},
   "source": [
    "* Read the pictre files\n",
    "* Decode the JPEG content to RGB grids of pixels.\n",
    "* Convert these into floating point tensors\n",
    "* Rescale the pixel values (between 0 and 255)to the [0,1] interval"
   ]
  },
  {
   "cell_type": "code",
   "execution_count": 5,
   "id": "a5dfd6c2",
   "metadata": {},
   "outputs": [],
   "source": [
    "from tensorflow.keras.preprocessing.image import ImageDataGenerator"
   ]
  },
  {
   "cell_type": "code",
   "execution_count": 6,
   "id": "5aa8f6a8",
   "metadata": {},
   "outputs": [
    {
     "name": "stdout",
     "output_type": "stream",
     "text": [
      "Found 2000 images belonging to 2 classes.\n",
      "Found 1000 images belonging to 2 classes.\n"
     ]
    }
   ],
   "source": [
    "# Generating batches of tensor image data\n",
    "\n",
    "train_datagen = ImageDataGenerator(rescale=1./255)\n",
    "test_datagen = ImageDataGenerator(rescale= 1./255)\n",
    "\n",
    "train_generator = train_datagen.flow_from_directory(\n",
    "           train_dir,\n",
    "           target_size = (150,150),\n",
    "           batch_size = 20,\n",
    "           class_mode = 'binary')\n",
    "\n",
    "validation_generator = test_datagen.flow_from_directory(\n",
    "           validation_dir,\n",
    "           target_size = (150,150),\n",
    "           batch_size = 20,\n",
    "           class_mode = 'binary')"
   ]
  },
  {
   "cell_type": "code",
   "execution_count": 7,
   "id": "70d104d2",
   "metadata": {},
   "outputs": [],
   "source": [
    "from tensorflow.keras import layers \n",
    "from tensorflow.keras import models"
   ]
  },
  {
   "cell_type": "code",
   "execution_count": 8,
   "id": "6f3b657e",
   "metadata": {},
   "outputs": [],
   "source": [
    "model = models.Sequential()\n",
    "model.add(layers.Conv2D(32,(3,3), activation='relu',input_shape=(150,150,3)))\n",
    "model.add(layers.MaxPooling2D((2,2)))\n",
    "\n",
    "model.add(layers.Conv2D(64,(3,3),activation = 'relu'))\n",
    "model.add(layers.MaxPooling2D((2,2)))\n",
    "\n",
    "model.add(layers.Conv2D(128,(3,3),activation = 'relu'))\n",
    "model.add(layers.MaxPooling2D((2,2)))\n",
    "\n",
    "model.add(layers.Conv2D(128,(3,3),activation = 'relu'))\n",
    "model.add(layers.MaxPooling2D((2,2)))\n",
    "\n",
    "model.add(layers.Flatten())\n",
    "\n",
    "model.add(layers.Dense(512, activation= 'relu'))\n",
    "\n",
    "model.add(layers.Dense(1,activation = 'sigmoid'))\n"
   ]
  },
  {
   "cell_type": "code",
   "execution_count": 9,
   "id": "4ee981bd",
   "metadata": {},
   "outputs": [
    {
     "name": "stdout",
     "output_type": "stream",
     "text": [
      "Model: \"sequential\"\n",
      "_________________________________________________________________\n",
      "Layer (type)                 Output Shape              Param #   \n",
      "=================================================================\n",
      "conv2d (Conv2D)              (None, 148, 148, 32)      896       \n",
      "_________________________________________________________________\n",
      "max_pooling2d (MaxPooling2D) (None, 74, 74, 32)        0         \n",
      "_________________________________________________________________\n",
      "conv2d_1 (Conv2D)            (None, 72, 72, 64)        18496     \n",
      "_________________________________________________________________\n",
      "max_pooling2d_1 (MaxPooling2 (None, 36, 36, 64)        0         \n",
      "_________________________________________________________________\n",
      "conv2d_2 (Conv2D)            (None, 34, 34, 128)       73856     \n",
      "_________________________________________________________________\n",
      "max_pooling2d_2 (MaxPooling2 (None, 17, 17, 128)       0         \n",
      "_________________________________________________________________\n",
      "conv2d_3 (Conv2D)            (None, 15, 15, 128)       147584    \n",
      "_________________________________________________________________\n",
      "max_pooling2d_3 (MaxPooling2 (None, 7, 7, 128)         0         \n",
      "_________________________________________________________________\n",
      "flatten (Flatten)            (None, 6272)              0         \n",
      "_________________________________________________________________\n",
      "dense (Dense)                (None, 512)               3211776   \n",
      "_________________________________________________________________\n",
      "dense_1 (Dense)              (None, 1)                 513       \n",
      "=================================================================\n",
      "Total params: 3,453,121\n",
      "Trainable params: 3,453,121\n",
      "Non-trainable params: 0\n",
      "_________________________________________________________________\n"
     ]
    }
   ],
   "source": [
    "model.summary()"
   ]
  },
  {
   "cell_type": "code",
   "execution_count": 10,
   "id": "70d230da",
   "metadata": {},
   "outputs": [],
   "source": [
    "from tensorflow .keras import optimizers\n",
    "\n",
    "model.compile(loss = 'binary_crossentropy',\n",
    "             optimizer = optimizers.RMSprop(learning_rate=1e-4),\n",
    "             metrics= ['acc'])"
   ]
  },
  {
   "cell_type": "code",
   "execution_count": 11,
   "id": "9e7991fe",
   "metadata": {},
   "outputs": [
    {
     "name": "stderr",
     "output_type": "stream",
     "text": [
      "C:\\Users\\LEGION\\anaconda3\\envs\\santosh\\lib\\site-packages\\keras\\engine\\training.py:1972: UserWarning: `Model.fit_generator` is deprecated and will be removed in a future version. Please use `Model.fit`, which supports generators.\n",
      "  warnings.warn('`Model.fit_generator` is deprecated and '\n"
     ]
    },
    {
     "name": "stdout",
     "output_type": "stream",
     "text": [
      "Epoch 1/20\n",
      "100/100 [==============================] - 56s 549ms/step - loss: 0.6897 - acc: 0.5400 - val_loss: 0.6757 - val_acc: 0.6020\n",
      "Epoch 2/20\n",
      "100/100 [==============================] - 48s 479ms/step - loss: 0.6577 - acc: 0.6235 - val_loss: 0.6531 - val_acc: 0.6010\n",
      "Epoch 3/20\n",
      "100/100 [==============================] - 49s 488ms/step - loss: 0.6113 - acc: 0.6680 - val_loss: 0.6127 - val_acc: 0.6460\n",
      "Epoch 4/20\n",
      "100/100 [==============================] - 47s 473ms/step - loss: 0.5671 - acc: 0.7045 - val_loss: 0.6243 - val_acc: 0.6570\n",
      "Epoch 5/20\n",
      "100/100 [==============================] - 45s 452ms/step - loss: 0.5350 - acc: 0.7310 - val_loss: 0.5833 - val_acc: 0.6910\n",
      "Epoch 6/20\n",
      "100/100 [==============================] - 45s 449ms/step - loss: 0.5089 - acc: 0.7510 - val_loss: 0.5576 - val_acc: 0.7170\n",
      "Epoch 7/20\n",
      "100/100 [==============================] - 47s 468ms/step - loss: 0.4808 - acc: 0.7790 - val_loss: 0.5627 - val_acc: 0.7020\n",
      "Epoch 8/20\n",
      "100/100 [==============================] - 48s 475ms/step - loss: 0.4648 - acc: 0.7785 - val_loss: 0.5896 - val_acc: 0.7140\n",
      "Epoch 9/20\n",
      "100/100 [==============================] - 47s 474ms/step - loss: 0.4309 - acc: 0.8035 - val_loss: 0.6107 - val_acc: 0.6970\n",
      "Epoch 10/20\n",
      "100/100 [==============================] - 47s 475ms/step - loss: 0.4111 - acc: 0.8135 - val_loss: 0.5547 - val_acc: 0.7080\n",
      "Epoch 11/20\n",
      "100/100 [==============================] - 47s 474ms/step - loss: 0.3819 - acc: 0.8310 - val_loss: 0.6231 - val_acc: 0.7040\n",
      "Epoch 12/20\n",
      "100/100 [==============================] - 48s 478ms/step - loss: 0.3596 - acc: 0.8520 - val_loss: 0.5420 - val_acc: 0.7370\n",
      "Epoch 13/20\n",
      "100/100 [==============================] - 48s 478ms/step - loss: 0.3279 - acc: 0.8565 - val_loss: 0.5765 - val_acc: 0.7250\n",
      "Epoch 14/20\n",
      "100/100 [==============================] - 46s 464ms/step - loss: 0.3104 - acc: 0.8735 - val_loss: 0.6452 - val_acc: 0.7140\n",
      "Epoch 15/20\n",
      "100/100 [==============================] - 44s 442ms/step - loss: 0.2753 - acc: 0.8855 - val_loss: 0.5771 - val_acc: 0.7190\n",
      "Epoch 16/20\n",
      "100/100 [==============================] - 46s 461ms/step - loss: 0.2546 - acc: 0.8920 - val_loss: 0.5665 - val_acc: 0.7370\n",
      "Epoch 17/20\n",
      "100/100 [==============================] - 46s 461ms/step - loss: 0.2354 - acc: 0.9075 - val_loss: 0.6512 - val_acc: 0.7210\n",
      "Epoch 18/20\n",
      "100/100 [==============================] - 46s 463ms/step - loss: 0.2161 - acc: 0.9135 - val_loss: 0.7741 - val_acc: 0.7060\n",
      "Epoch 19/20\n",
      "100/100 [==============================] - 46s 458ms/step - loss: 0.1868 - acc: 0.9280 - val_loss: 0.6424 - val_acc: 0.7230\n",
      "Epoch 20/20\n",
      "100/100 [==============================] - 46s 460ms/step - loss: 0.1689 - acc: 0.9390 - val_loss: 0.6617 - val_acc: 0.7280\n"
     ]
    }
   ],
   "source": [
    "history = model.fit_generator(\n",
    "          train_generator,\n",
    "          steps_per_epoch = 100,\n",
    "          epochs = 20,\n",
    "          validation_data = validation_generator,\n",
    "          validation_steps = 50)"
   ]
  },
  {
   "cell_type": "code",
   "execution_count": 12,
   "id": "7088123f",
   "metadata": {},
   "outputs": [
    {
     "data": {
      "image/png": "[encoded data removed]",
      "text/plain": [
       "<Figure size 576x360 with 1 Axes>"
      ]
     },
     "metadata": {
      "needs_background": "light"
     },
     "output_type": "display_data"
    }
   ],
   "source": [
    "pd.DataFrame(history.history).plot(figsize=(8,5))\n",
    "plt.grid(True)\n",
    "plt.gca().set_ylim(0,1)\n",
    "plt.show()"
   ]
  },
  {
   "cell_type": "code",
   "execution_count": 13,
   "id": "26537be0",
   "metadata": {},
   "outputs": [],
   "source": [
    " model.save(\"model.h5\")"
   ]
  },
  {
   "cell_type": "code",
   "execution_count": 14,
   "id": "f2e966b1",
   "metadata": {},
   "outputs": [],
   "source": [
    "from tensorflow.keras import backend as k\n",
    "\n",
    "k.clear_session()\n",
    "del model"
   ]
  },
  {
   "cell_type": "code",
   "execution_count": null,
   "id": "0ad72ffa",
   "metadata": {},
   "outputs": [],
   "source": []
  }
 ],
 "metadata": {
  "kernelspec": {
   "display_name": "Python 3 (ipykernel)",
   "language": "python",
   "name": "python3"
  },
  "language_info": {
   "codemirror_mode": {
    "name": "ipython",
    "version": 3
   },
   "file_extension": ".py",
   "mimetype": "text/x-python",
   "name": "python",
   "nbconvert_exporter": "python",
   "pygments_lexer": "ipython3",
   "version": "3.8.12"
  }
 },
 "nbformat": 4,
 "nbformat_minor": 5
}
